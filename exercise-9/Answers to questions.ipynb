{
 "cells": [
  {
   "cell_type": "markdown",
   "metadata": {},
   "source": [
    "## Answers\n",
    "1. How many fossils are included in the dataset?\n",
    "    - Command: tail -n +2 canid_occ.csv | wc -l\n",
    "    - Answer: 2946 fossils\n",
    "2. How many fossils have been identified to genus-level only? How many to species-level?\n",
    "    - Command:\n",
    "        - for genus: tail -n +2 canid_occ.csv | grep \"genus\" | wc -l\n",
    "        - for species: tail -n +2 canid_occ.csv | grep \"species\" | wc -l\n",
    "    - Answer:\n",
    "        - for genus: 614 fossils\n",
    "        - for species: 2107 fossils\n",
    "3. How many unique accepted names are part of this dataset?\n",
    "    - Command: tail -n +2 canid_occ.csv | cut -d \",\" -f 6 | sort | uniq | wc -l\n",
    "    - Answer: 211 fossils\n"
   ]
  },
  {
   "cell_type": "markdown",
   "metadata": {},
   "source": [
    "## Answers to more questions\n",
    "1. How can we change the sampling frequency of our PyRate run?\n",
    "    \n",
    "2. What does the -n flag achieve?"
   ]
  }
 ],
 "metadata": {
  "anaconda-cloud": {},
  "kernelspec": {
   "display_name": "Python [conda root]",
   "language": "python",
   "name": "conda-root-py"
  },
  "language_info": {
   "codemirror_mode": {
    "name": "ipython",
    "version": 3
   },
   "file_extension": ".py",
   "mimetype": "text/x-python",
   "name": "python",
   "nbconvert_exporter": "python",
   "pygments_lexer": "ipython3",
   "version": "3.5.2"
  }
 },
 "nbformat": 4,
 "nbformat_minor": 2
}
