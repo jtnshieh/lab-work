{
 "cells": [
  {
   "cell_type": "code",
   "execution_count": 1,
   "metadata": {
    "collapsed": false
   },
   "outputs": [
    {
     "name": "stdout",
     "output_type": "stream",
     "text": [
      "100\n",
      "101\n",
      "102\n",
      "103\n",
      "104\n",
      "105\n",
      "106\n",
      "107\n",
      "108\n",
      "109\n",
      "110\n"
     ]
    }
   ],
   "source": [
    "for number in (range(100,111,+1)):\n",
    "    print(number)"
   ]
  },
  {
   "cell_type": "code",
   "execution_count": 2,
   "metadata": {
    "collapsed": false
   },
   "outputs": [
    {
     "name": "stdout",
     "output_type": "stream",
     "text": [
      "100\n",
      "101\n",
      "102\n",
      "103\n",
      "104\n",
      "105\n",
      "106\n",
      "107\n",
      "108\n",
      "109\n",
      "110\n"
     ]
    }
   ],
   "source": [
    "number = 100\n",
    "while number < 111:\n",
    "    print(number)\n",
    "    number = number + 1"
   ]
  },
  {
   "cell_type": "code",
   "execution_count": 3,
   "metadata": {
    "collapsed": false
   },
   "outputs": [
    {
     "name": "stdout",
     "output_type": "stream",
     "text": [
      "100\n",
      "121\n",
      "144\n",
      "169\n",
      "196\n",
      "225\n"
     ]
    }
   ],
   "source": [
    "number = 10\n",
    "while number < 16:\n",
    "    print(number**2)\n",
    "    number = number + 1"
   ]
  },
  {
   "cell_type": "code",
   "execution_count": 5,
   "metadata": {
    "collapsed": false
   },
   "outputs": [
    {
     "name": "stdout",
     "output_type": "stream",
     "text": [
      "Scooby is a character in that most glorious of cartoons, Scooby Doo.\n",
      "Shaggy is a character in that most glorious of cartoons, Scooby Doo.\n",
      "Velma is a character in that most glorious of cartoons, Scooby Doo.\n",
      "Daphne is a character in that most glorious of cartoons, Scooby Doo.\n",
      "Fred is a character in that most glorious of cartoons, Scooby Doo.\n"
     ]
    }
   ],
   "source": [
    "Characters = [\"Scooby\",\"Shaggy\",\"Velma\",\"Daphne\",\"Fred\"]\n",
    "for character in Characters:\n",
    "    print(character + \" is a character in that most glorious of cartoons, Scooby Doo.\")"
   ]
  },
  {
   "cell_type": "code",
   "execution_count": 9,
   "metadata": {
    "collapsed": false
   },
   "outputs": [
    {
     "name": "stdout",
     "output_type": "stream",
     "text": [
      "120\n",
      "21\n",
      "Error! Please input an integer.\n",
      "0\n"
     ]
    }
   ],
   "source": [
    "def fact_or_sum(int):\n",
    "    if (type(int) == str):\n",
    "        return \"Error! Please input an integer.\"\n",
    "    else:\n",
    "        if (int == 0):\n",
    "            return 0\n",
    "        elif (int%2 == 1):\n",
    "            factorial = 1\n",
    "            for number in (range(int,0,-1)):\n",
    "                factorial = factorial*number\n",
    "            return factorial\n",
    "        elif (int%2 == 0):\n",
    "            sum = 0\n",
    "            while int > 0:\n",
    "                sum = sum + int\n",
    "                int = int -1\n",
    "            return sum\n",
    "print(fact_or_sum(5))\n",
    "print(fact_or_sum(6))\n",
    "print(fact_or_sum(\"hi\"))\n",
    "print(fact_or_sum(0))"
   ]
  },
  {
   "cell_type": "code",
   "execution_count": null,
   "metadata": {
    "collapsed": true
   },
   "outputs": [],
   "source": []
  }
 ],
 "metadata": {
  "anaconda-cloud": {},
  "kernelspec": {
   "display_name": "Python [conda root]",
   "language": "python",
   "name": "conda-root-py"
  },
  "language_info": {
   "codemirror_mode": {
    "name": "ipython",
    "version": 3
   },
   "file_extension": ".py",
   "mimetype": "text/x-python",
   "name": "python",
   "nbconvert_exporter": "python",
   "pygments_lexer": "ipython3",
   "version": "3.5.2"
  }
 },
 "nbformat": 4,
 "nbformat_minor": 2
}
