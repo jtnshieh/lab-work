{
 "cells": [
  {
   "cell_type": "code",
   "execution_count": 1,
   "metadata": {
    "collapsed": true
   },
   "outputs": [],
   "source": [
    "a = 3"
   ]
  },
  {
   "cell_type": "code",
   "execution_count": 2,
   "metadata": {
    "collapsed": true
   },
   "outputs": [],
   "source": [
    "b = 17"
   ]
  },
  {
   "cell_type": "code",
   "execution_count": 3,
   "metadata": {
    "collapsed": true
   },
   "outputs": [],
   "source": [
    "c = a+b"
   ]
  },
  {
   "cell_type": "code",
   "execution_count": 4,
   "metadata": {
    "collapsed": true
   },
   "outputs": [],
   "source": [
    "favorite_animal = \"dog\""
   ]
  },
  {
   "cell_type": "code",
   "execution_count": 5,
   "metadata": {
    "collapsed": true
   },
   "outputs": [],
   "source": [
    "favorite_dinners = [\"steak\",\"caesar salad\",\"mac n cheese\"]"
   ]
  },
  {
   "cell_type": "code",
   "execution_count": 6,
   "metadata": {
    "collapsed": true
   },
   "outputs": [],
   "source": [
    "num_fav_dinners = len(favorite_dinners)"
   ]
  },
  {
   "cell_type": "code",
   "execution_count": 9,
   "metadata": {
    "collapsed": false
   },
   "outputs": [],
   "source": [
    "def hw3_function(int):\n",
    "\tif (int < 5):\n",
    "\t\treturn \"Brr! It's cold!\"\n",
    "\telif (int > 25):\n",
    "\t\treturn \"It's pretty warm!\"\n",
    "\telif (int > 5 and int < 25):\n",
    "\t\treturn \"What a pleasant temperature!\"\n",
    "\telse:\n",
    "\t\treturn \"Error! Please input an integer.\"\n"
   ]
  },
  {
   "cell_type": "code",
   "execution_count": 10,
   "metadata": {
    "collapsed": false
   },
   "outputs": [
    {
     "ename": "TypeError",
     "evalue": "unorderable types: str() < int()",
     "output_type": "error",
     "traceback": [
      "\u001b[0;31m---------------------------------------------------------------------------\u001b[0m",
      "\u001b[0;31mTypeError\u001b[0m                                 Traceback (most recent call last)",
      "\u001b[0;32m<ipython-input-10-862ca76763ca>\u001b[0m in \u001b[0;36m<module>\u001b[0;34m()\u001b[0m\n\u001b[0;32m----> 1\u001b[0;31m \u001b[0mhw3_function\u001b[0m\u001b[0;34m(\u001b[0m\u001b[0;34m\"duck\"\u001b[0m\u001b[0;34m)\u001b[0m\u001b[0;34m\u001b[0m\u001b[0m\n\u001b[0m",
      "\u001b[0;32m<ipython-input-9-7b76f6dd51c8>\u001b[0m in \u001b[0;36mhw3_function\u001b[0;34m(int)\u001b[0m\n\u001b[1;32m      1\u001b[0m \u001b[0;32mdef\u001b[0m \u001b[0mhw3_function\u001b[0m\u001b[0;34m(\u001b[0m\u001b[0mint\u001b[0m\u001b[0;34m)\u001b[0m\u001b[0;34m:\u001b[0m\u001b[0;34m\u001b[0m\u001b[0m\n\u001b[0;32m----> 2\u001b[0;31m         \u001b[0;32mif\u001b[0m \u001b[0;34m(\u001b[0m\u001b[0mint\u001b[0m \u001b[0;34m<\u001b[0m \u001b[0;36m5\u001b[0m\u001b[0;34m)\u001b[0m\u001b[0;34m:\u001b[0m\u001b[0;34m\u001b[0m\u001b[0m\n\u001b[0m\u001b[1;32m      3\u001b[0m                 \u001b[0;32mreturn\u001b[0m \u001b[0;34m\"Brr! It's cold!\"\u001b[0m\u001b[0;34m\u001b[0m\u001b[0m\n\u001b[1;32m      4\u001b[0m         \u001b[0;32melif\u001b[0m \u001b[0;34m(\u001b[0m\u001b[0mint\u001b[0m \u001b[0;34m>\u001b[0m \u001b[0;36m25\u001b[0m\u001b[0;34m)\u001b[0m\u001b[0;34m:\u001b[0m\u001b[0;34m\u001b[0m\u001b[0m\n\u001b[1;32m      5\u001b[0m                 \u001b[0;32mreturn\u001b[0m \u001b[0;34m\"It's pretty warm!\"\u001b[0m\u001b[0;34m\u001b[0m\u001b[0m\n",
      "\u001b[0;31mTypeError\u001b[0m: unorderable types: str() < int()"
     ]
    }
   ],
   "source": [
    "hw3_function(\"duck\")"
   ]
  },
  {
   "cell_type": "code",
   "execution_count": 11,
   "metadata": {
    "collapsed": false
   },
   "outputs": [
    {
     "data": {
      "text/plain": [
       "'What a pleasant temperature!'"
      ]
     },
     "execution_count": 11,
     "metadata": {},
     "output_type": "execute_result"
    }
   ],
   "source": [
    "hw3_function(17)"
   ]
  },
  {
   "cell_type": "code",
   "execution_count": 19,
   "metadata": {
    "collapsed": false
   },
   "outputs": [
    {
     "name": "stdout",
     "output_type": "stream",
     "text": [
      "nothing\n"
     ]
    }
   ],
   "source": [
    "import re\n",
    "sequence = \"ATCGCGAATTCAC\"\n",
    "if re.search(\"G(A|T)(A|T)G(A|T|C|G)\", sequence):\n",
    "\tprint(\"the pattern of concern is found!\")\n",
    "else:\n",
    "    print(\"nothing\")"
   ]
  },
  {
   "cell_type": "code",
   "execution_count": 44,
   "metadata": {
    "collapsed": false
   },
   "outputs": [],
   "source": [
    "import random\n",
    "def rps(input):\n",
    "    while (input != \"rock\" and input != \"paper\" and input != \"scissors\"):\n",
    "        return \"Please enter rock, paper or scissors.\"\n",
    "    computer_options = [\"rock\",\"paper\",\"scissors\"]\n",
    "    the_decision = random.choice(computer_options)\n",
    "    if (input == the_decision):\n",
    "        return \"You picked \" + input + \"; Computer picked \" + the_decision + \"; this is a tie!\"\n",
    "    elif (input == \"rock\" and the_decision == \"paper\"):\n",
    "        return \"You picked rock; Computer picked paper; +1 for Computer!\"\n",
    "    elif (input == \"rock\" and the_decision == \"scissors\"):\n",
    "        return \"You picked rock; Computer picked scissors; +1 for You!\"\n",
    "    elif (input == \"paper\" and the_decision == \"rock\"):\n",
    "        return \"You picked paper; Computer picked rock; +1 for You!\"\n",
    "    elif (input == \"paper\" and the_decision == \"scissors\"):\n",
    "        return \"You picked paper; Computer picked scissors; +1 for Computer!\"\n",
    "    elif (input == \"scissors\" and the_decision == \"paper\"):\n",
    "        return \"You picked scissors; Computer picked paper; +1 for You!\"\n",
    "    elif (input == \"scissors\" and the_decision == \"rock\"):\n",
    "        return \"You picked scissors; Computer picked rock; +1 for Computer!\"\n",
    "    "
   ]
  },
  {
   "cell_type": "code",
   "execution_count": 46,
   "metadata": {
    "collapsed": false
   },
   "outputs": [
    {
     "name": "stdout",
     "output_type": "stream",
     "text": [
      "Please enter rock, paper or scissors.\n"
     ]
    }
   ],
   "source": [
    "print(rps(\"mojo\"))"
   ]
  },
  {
   "cell_type": "code",
   "execution_count": null,
   "metadata": {
    "collapsed": false
   },
   "outputs": [],
   "source": []
  },
  {
   "cell_type": "code",
   "execution_count": null,
   "metadata": {
    "collapsed": true
   },
   "outputs": [],
   "source": []
  }
 ],
 "metadata": {
  "anaconda-cloud": {},
  "kernelspec": {
   "display_name": "Python [conda root]",
   "language": "python",
   "name": "conda-root-py"
  },
  "language_info": {
   "codemirror_mode": {
    "name": "ipython",
    "version": 3
   },
   "file_extension": ".py",
   "mimetype": "text/x-python",
   "name": "python",
   "nbconvert_exporter": "python",
   "pygments_lexer": "ipython3",
   "version": "3.5.2"
  }
 },
 "nbformat": 4,
 "nbformat_minor": 2
}
