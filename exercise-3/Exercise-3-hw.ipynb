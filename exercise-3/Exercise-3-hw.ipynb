{
 "cells": [
  {
   "cell_type": "code",
   "execution_count": 16,
   "metadata": {
    "collapsed": true
   },
   "outputs": [],
   "source": [
    "a = 3"
   ]
  },
  {
   "cell_type": "code",
   "execution_count": 17,
   "metadata": {
    "collapsed": true
   },
   "outputs": [],
   "source": [
    "b = 17"
   ]
  },
  {
   "cell_type": "code",
   "execution_count": 19,
   "metadata": {
    "collapsed": false
   },
   "outputs": [],
   "source": [
    "c = a+b"
   ]
  },
  {
   "cell_type": "code",
   "execution_count": 4,
   "metadata": {
    "collapsed": true
   },
   "outputs": [],
   "source": [
    "favorite_animal = \"dog\""
   ]
  },
  {
   "cell_type": "code",
   "execution_count": 21,
   "metadata": {
    "collapsed": true
   },
   "outputs": [],
   "source": [
    "favorite_dinners = [\"steak\",\"caesar salad\",\"mac n cheese\"]"
   ]
  },
  {
   "cell_type": "code",
   "execution_count": 22,
   "metadata": {
    "collapsed": false
   },
   "outputs": [],
   "source": [
    "num_fav_dinners = len(favorite_dinners)"
   ]
  },
  {
   "cell_type": "code",
   "execution_count": 9,
   "metadata": {
    "collapsed": false
   },
   "outputs": [],
   "source": [
    "def hw3_function(int):\n",
    "    if (type(int) == str):\n",
    "        return \"Error! Please input an integer.\"\n",
    "    else:\n",
    "        if (int < 5):\n",
    "            return \"Brr! It's cold!\"\n",
    "        elif (int > 25):\n",
    "            return \"It's pretty warm!\"\n",
    "        elif (int > 5 and int < 25):\n",
    "            return \"What a pleasant temperature!\"\n"
   ]
  },
  {
   "cell_type": "code",
   "execution_count": 14,
   "metadata": {
    "collapsed": false
   },
   "outputs": [
    {
     "data": {
      "text/plain": [
       "'Error! Please input an integer.'"
      ]
     },
     "execution_count": 14,
     "metadata": {},
     "output_type": "execute_result"
    }
   ],
   "source": [
    "hw3_function(\"duck\")"
   ]
  },
  {
   "cell_type": "code",
   "execution_count": 11,
   "metadata": {
    "collapsed": false
   },
   "outputs": [
    {
     "data": {
      "text/plain": [
       "'What a pleasant temperature!'"
      ]
     },
     "execution_count": 11,
     "metadata": {},
     "output_type": "execute_result"
    }
   ],
   "source": [
    "hw3_function(17)"
   ]
  },
  {
   "cell_type": "code",
   "execution_count": 23,
   "metadata": {
    "collapsed": false
   },
   "outputs": [
    {
     "name": "stdout",
     "output_type": "stream",
     "text": [
      "the pattern of conern cannot be found.\n"
     ]
    }
   ],
   "source": [
    "import re\n",
    "sequence = \"ATCGCGAATTCAC\"\n",
    "if re.search(\"G(A|T)(A|T)G(A|T|C|G)\", sequence):\n",
    "\tprint(\"the pattern of concern is found!\")\n",
    "else:\n",
    "    print(\"the pattern of conern cannot be found.\")"
   ]
  },
  {
   "cell_type": "code",
   "execution_count": 25,
   "metadata": {
    "collapsed": false
   },
   "outputs": [],
   "source": [
    "import random\n",
    "def rps(input):\n",
    "    while (input != \"rock\" and input != \"paper\" and input != \"scissors\"):\n",
    "        return \"Please enter rock, paper or scissors.\"\n",
    "    computer_options = [\"rock\",\"paper\",\"scissors\"]\n",
    "    the_decision = random.choice(computer_options)\n",
    "    if (input == the_decision):\n",
    "        return \"You picked \" + input + \"; Computer picked \" + the_decision + \"; this is a tie!\"\n",
    "    elif (input == \"rock\" and the_decision == \"paper\"):\n",
    "        return \"You picked rock; Computer picked paper; +1 for Computer!\"\n",
    "    elif (input == \"rock\" and the_decision == \"scissors\"):\n",
    "        return \"You picked rock; Computer picked scissors; +1 for You!\"\n",
    "    elif (input == \"paper\" and the_decision == \"rock\"):\n",
    "        return \"You picked paper; Computer picked rock; +1 for You!\"\n",
    "    elif (input == \"paper\" and the_decision == \"scissors\"):\n",
    "        return \"You picked paper; Computer picked scissors; +1 for Computer!\"\n",
    "    elif (input == \"scissors\" and the_decision == \"paper\"):\n",
    "        return \"You picked scissors; Computer picked paper; +1 for You!\"\n",
    "    elif (input == \"scissors\" and the_decision == \"rock\"):\n",
    "        return \"You picked scissors; Computer picked rock; +1 for Computer!\"\n",
    "    "
   ]
  },
  {
   "cell_type": "code",
   "execution_count": 27,
   "metadata": {
    "collapsed": false
   },
   "outputs": [
    {
     "name": "stdout",
     "output_type": "stream",
     "text": [
      "You picked rock; Computer picked scissors; +1 for You!\n"
     ]
    }
   ],
   "source": [
    "print(rps(\"rock\"))"
   ]
  },
  {
   "cell_type": "code",
   "execution_count": null,
   "metadata": {
    "collapsed": false
   },
   "outputs": [],
   "source": []
  },
  {
   "cell_type": "code",
   "execution_count": null,
   "metadata": {
    "collapsed": true
   },
   "outputs": [],
   "source": []
  }
 ],
 "metadata": {
  "anaconda-cloud": {},
  "kernelspec": {
   "display_name": "Python [conda root]",
   "language": "python",
   "name": "conda-root-py"
  },
  "language_info": {
   "codemirror_mode": {
    "name": "ipython",
    "version": 3
   },
   "file_extension": ".py",
   "mimetype": "text/x-python",
   "name": "python",
   "nbconvert_exporter": "python",
   "pygments_lexer": "ipython3",
   "version": "3.5.2"
  }
 },
 "nbformat": 4,
 "nbformat_minor": 2
}
