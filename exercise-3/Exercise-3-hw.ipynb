This is homework:
2.
a = 3
b = 17
c = a + b
favorite_animal = "dog"
favorite_dinners = ["steak","caesar salad","mac n cheese"]
num_fav_dinners = len(favorite_dinners)

3.
def hw3_function(int)
	if (int < 5):
		return "Brr! It's cold!"
	elif (int > 25):
		return "It's pretty warm!"
	elif (int > 5 && int < 25):
		return "What a pleasant temperature!"
	else:
		return "Error! Please input an integer."

4.
import re
sequence = "ATCGCGAATTCAC"
print(re.findall(pattern = "(" ,string = sequence))


